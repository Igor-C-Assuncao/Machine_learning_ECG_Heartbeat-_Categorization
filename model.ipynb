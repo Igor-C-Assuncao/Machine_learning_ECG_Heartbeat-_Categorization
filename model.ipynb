{
 "cells": [
  {
   "cell_type": "code",
   "execution_count": 6,
   "metadata": {},
   "outputs": [
    {
     "ename": "ImportError",
     "evalue": "cannot import name 'preprocess_data' from 'splitTrainTest' (c:\\Users\\igorc\\OneDrive\\Documents\\Faculade\\Inteligencia atificial\\splitTrainTest.py)",
     "output_type": "error",
     "traceback": [
      "\u001b[1;31m---------------------------------------------------------------------------\u001b[0m",
      "\u001b[1;31mImportError\u001b[0m                               Traceback (most recent call last)",
      "Cell \u001b[1;32mIn[6], line 2\u001b[0m\n\u001b[0;32m      1\u001b[0m \u001b[38;5;28;01mimport\u001b[39;00m \u001b[38;5;21;01mpandas\u001b[39;00m \u001b[38;5;28;01mas\u001b[39;00m \u001b[38;5;21;01mpd\u001b[39;00m\n\u001b[1;32m----> 2\u001b[0m \u001b[38;5;28;01mfrom\u001b[39;00m \u001b[38;5;21;01msplitTrainTest\u001b[39;00m \u001b[38;5;28;01mimport\u001b[39;00m preprocess_data\n\u001b[0;32m      3\u001b[0m \u001b[38;5;28;01mfrom\u001b[39;00m \u001b[38;5;21;01mmodelFunc\u001b[39;00m \u001b[38;5;28;01mimport\u001b[39;00m run_model\n\u001b[0;32m      4\u001b[0m \u001b[38;5;28;01mfrom\u001b[39;00m \u001b[38;5;21;01msklearn\u001b[39;00m\u001b[38;5;21;01m.\u001b[39;00m\u001b[38;5;21;01mneural_network\u001b[39;00m \u001b[38;5;28;01mimport\u001b[39;00m MLPClassifier\n",
      "\u001b[1;31mImportError\u001b[0m: cannot import name 'preprocess_data' from 'splitTrainTest' (c:\\Users\\igorc\\OneDrive\\Documents\\Faculade\\Inteligencia atificial\\splitTrainTest.py)"
     ]
    }
   ],
   "source": [
    "import pandas as pd\n",
    "from modelFunc import run_model\n",
    "from sklearn.neural_network import MLPClassifier\n",
    "from sklearn.tree import DecisionTreeClassifier\n",
    "from sklearn.metrics import precision_score, recall_score, f1_score\n",
    "import matplotlib.pyplot as plt\n",
    "import seaborn as sns\n",
    "\n",
    "# Carregar os dados do MIT-BIH\n",
    "mitbih_train = pd.read_csv('mitbih_train.csv', header=None)\n",
    "mitbih_test = pd.read_csv('mitbih_test.csv', header=None)\n",
    "\n",
    "# Combinar os dados de treino e teste\n",
    "mitbih_data = pd.concat([mitbih_train, mitbih_test], axis=0)\n",
    "\n",
    "# Exibir as primeiras linhas da base de dados\n",
    "print(mitbih_data.head())\n",
    "\n",
    "# Verificar a distribuição das classes\n",
    "print(mitbih_data.iloc[:, -1].value_counts())\n",
    "\n"
   ]
  },
  {
   "cell_type": "code",
   "execution_count": null,
   "metadata": {},
   "outputs": [],
   "source": [
    "# Dividir os dados em treino e teste\n",
    "\n",
    "X_train_mitbih, X_test_mitbih, y_train_mitbih, y_test_mitbih = preprocess_data(mitbih_data)\n"
   ]
  },
  {
   "cell_type": "code",
   "execution_count": null,
   "metadata": {},
   "outputs": [],
   "source": [
    "mlp = MLPClassifier(hidden_layer_sizes=(100,), max_iter=300)\n",
    "dt = DecisionTreeClassifier(max_depth=5)\n",
    "\n",
    "# Rodar modelos para MIT-BIH\n",
    "mlp_precision_mitbih, mlp_recall_mitbih, mlp_f1_mitbih = run_model(mlp, X_train_mitbih, X_test_mitbih, y_train_mitbih, y_test_mitbih)\n",
    "dt_precision_mitbih, dt_recall_mitbih, dt_f1_mitbih = run_model(dt, X_train_mitbih, X_test_mitbih, y_train_mitbih, y_test_mitbih)\n"
   ]
  },
  {
   "cell_type": "markdown",
   "metadata": {},
   "source": [
    "## Resultados "
   ]
  },
  {
   "cell_type": "code",
   "execution_count": null,
   "metadata": {},
   "outputs": [],
   "source": [
    "\n",
    "\n",
    "\n",
    "results_mitbih = pd.DataFrame({\n",
    "    'MLP Precision': mlp_precision_mitbih,\n",
    "    'MLP Recall': mlp_recall_mitbih,\n",
    "    'MLP F1': mlp_f1_mitbih,\n",
    "    'DT Precision': dt_precision_mitbih,\n",
    "    'DT Recall': dt_recall_mitbih,\n",
    "    'DT F1': dt_f1_mitbih\n",
    "})\n",
    "\n",
    "\n",
    "\n",
    "# Calcular médias e desvios padrão\n",
    "means_mitbih = results_mitbih.mean()\n",
    "stds_mitbih = results_mitbih.std()\n",
    "\n",
    "\n",
    "print('Means MIT-BIH:\\n', means_mitbih)\n",
    "print('Standard Deviations MIT-BIH:\\n', stds_mitbih)\n"
   ]
  },
  {
   "cell_type": "code",
   "execution_count": null,
   "metadata": {},
   "outputs": [],
   "source": [
    "# Boxplot MIT-BIH\n",
    "plt.figure(figsize=(12, 6))\n",
    "sns.boxplot(data=results_mitbih)\n",
    "plt.title('Comparação de Modelos - MIT-BIH')\n",
    "plt.show()\n",
    "\n"
   ]
  }
 ],
 "metadata": {
  "kernelspec": {
   "display_name": "Python 3",
   "language": "python",
   "name": "python3"
  },
  "language_info": {
   "codemirror_mode": {
    "name": "ipython",
    "version": 3
   },
   "file_extension": ".py",
   "mimetype": "text/x-python",
   "name": "python",
   "nbconvert_exporter": "python",
   "pygments_lexer": "ipython3",
   "version": "3.12.2"
  }
 },
 "nbformat": 4,
 "nbformat_minor": 2
}
